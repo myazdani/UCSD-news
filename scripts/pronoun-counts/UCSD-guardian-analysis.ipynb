{
 "cells": [
  {
   "cell_type": "code",
   "execution_count": 90,
   "metadata": {
    "collapsed": true
   },
   "outputs": [],
   "source": [
    "import pandas as pd\n",
    "from collections import *\n",
    "import re"
   ]
  },
  {
   "cell_type": "code",
   "execution_count": 3,
   "metadata": {
    "collapsed": false
   },
   "outputs": [
    {
     "name": "stdout",
     "output_type": "stream",
     "text": [
      "(2915, 46)\n"
     ]
    }
   ],
   "source": [
    "df = pd.read_csv(\"../data/meta/UCSD-Guardian.csv\")\n",
    "print df.shape"
   ]
  },
  {
   "cell_type": "code",
   "execution_count": 4,
   "metadata": {
    "collapsed": false
   },
   "outputs": [
    {
     "data": {
      "text/plain": [
       "Index([u'Object Unique ID', u'Level', u'File name', u'File use',\n",
       "       u'Type of Resource', u'Language', u'Title', u'Title.1', u'Subtitle',\n",
       "       u'Translation', u'Variant', u'Variant.1', u'Variant.2', u'Variant.3',\n",
       "       u'Variant.4', u'Variant.5', u'Variant.6', u'Variant.7', u'Variant.8',\n",
       "       u'Variant.9', u'Variant.10', u'Variant.11', u'Variant.12',\n",
       "       u'Variant.13', u'Variant.14', u'Variant.15', u'Begin date',\n",
       "       u'Begin date.1', u'Date:creation', u'Date:creation.1', u'End date',\n",
       "       u'End date.1', u'File name 2', u'File use 2', u'Identifier:filename',\n",
       "       u'Identifier:filename.1', u'Note:local attribution', u'Note:note',\n",
       "       u'Note:note.1', u'Note:note.2', u'Note:note.3', u'Note:publication',\n",
       "       u'Note:publication.1', u'Note:series', u'Note:series.1',\n",
       "       u'Subject:topic'],\n",
       "      dtype='object')"
      ]
     },
     "execution_count": 4,
     "metadata": {},
     "output_type": "execute_result"
    }
   ],
   "source": [
    "df.columns"
   ]
  },
  {
   "cell_type": "code",
   "execution_count": 113,
   "metadata": {
    "collapsed": false,
    "scrolled": true
   },
   "outputs": [
    {
     "data": {
      "text/html": [
       "<div>\n",
       "<table border=\"1\" class=\"dataframe\">\n",
       "  <thead>\n",
       "    <tr style=\"text-align: right;\">\n",
       "      <th></th>\n",
       "      <th>Object Unique ID</th>\n",
       "      <th>Begin date</th>\n",
       "      <th>Date:creation</th>\n",
       "      <th>End date</th>\n",
       "      <th>Title</th>\n",
       "    </tr>\n",
       "  </thead>\n",
       "  <tbody>\n",
       "    <tr>\n",
       "      <th>0</th>\n",
       "      <td>http://library.ucsd.edu/ark:/20775/bb4813423q</td>\n",
       "      <td>1994-02-10</td>\n",
       "      <td>February 10, 1994</td>\n",
       "      <td>1994-02-10</td>\n",
       "      <td>UCSD Guardian</td>\n",
       "    </tr>\n",
       "    <tr>\n",
       "      <th>1</th>\n",
       "      <td>http://library.ucsd.edu/ark:/20775/bb8943155k</td>\n",
       "      <td>1979-05-07</td>\n",
       "      <td>May 7, 1979</td>\n",
       "      <td>1979-05-07</td>\n",
       "      <td>Guardian</td>\n",
       "    </tr>\n",
       "    <tr>\n",
       "      <th>2</th>\n",
       "      <td>http://library.ucsd.edu/ark:/20775/bb47792902</td>\n",
       "      <td>1987-05-21</td>\n",
       "      <td>May 21, 1987</td>\n",
       "      <td>1987-05-21</td>\n",
       "      <td>UCSD Guardian</td>\n",
       "    </tr>\n",
       "    <tr>\n",
       "      <th>3</th>\n",
       "      <td>http://library.ucsd.edu/ark:/20775/bb75779516</td>\n",
       "      <td>1987-05-07</td>\n",
       "      <td>May 7, 1987</td>\n",
       "      <td>1987-05-07</td>\n",
       "      <td>UCSD Guardian</td>\n",
       "    </tr>\n",
       "    <tr>\n",
       "      <th>4</th>\n",
       "      <td>http://library.ucsd.edu/ark:/20775/bb0479396b</td>\n",
       "      <td>2014-01-16</td>\n",
       "      <td>January 16, 2014</td>\n",
       "      <td>2014-01-16</td>\n",
       "      <td>UCSD Guardian</td>\n",
       "    </tr>\n",
       "    <tr>\n",
       "      <th>5</th>\n",
       "      <td>http://library.ucsd.edu/ark:/20775/bb23906782</td>\n",
       "      <td>2014-03-10</td>\n",
       "      <td>March 10, 2014</td>\n",
       "      <td>2014-03-10</td>\n",
       "      <td>UCSD Guardian</td>\n",
       "    </tr>\n",
       "    <tr>\n",
       "      <th>6</th>\n",
       "      <td>http://library.ucsd.edu/ark:/20775/bb86701140</td>\n",
       "      <td>1977-03-16</td>\n",
       "      <td>March 16, 1977</td>\n",
       "      <td>1977-03-16</td>\n",
       "      <td>Triton Times</td>\n",
       "    </tr>\n",
       "    <tr>\n",
       "      <th>7</th>\n",
       "      <td>http://library.ucsd.edu/ark:/20775/bb5837320f</td>\n",
       "      <td>1981-01-05</td>\n",
       "      <td>January 5, 1981</td>\n",
       "      <td>1981-01-05</td>\n",
       "      <td>The Guardian</td>\n",
       "    </tr>\n",
       "    <tr>\n",
       "      <th>8</th>\n",
       "      <td>http://library.ucsd.edu/ark:/20775/bb2014764j</td>\n",
       "      <td>1990-10-15</td>\n",
       "      <td>October 15, 1990</td>\n",
       "      <td>1990-10-15</td>\n",
       "      <td>UCSD Guardian</td>\n",
       "    </tr>\n",
       "    <tr>\n",
       "      <th>9</th>\n",
       "      <td>http://library.ucsd.edu/ark:/20775/bb32093141</td>\n",
       "      <td>2000-10-26</td>\n",
       "      <td>October 26, 2000</td>\n",
       "      <td>2000-10-26</td>\n",
       "      <td>UCSD Guardian</td>\n",
       "    </tr>\n",
       "    <tr>\n",
       "      <th>10</th>\n",
       "      <td>http://library.ucsd.edu/ark:/20775/bb4984071q</td>\n",
       "      <td>1991-03-11</td>\n",
       "      <td>March 11, 1991</td>\n",
       "      <td>1991-03-11</td>\n",
       "      <td>UCSD Guardian</td>\n",
       "    </tr>\n",
       "    <tr>\n",
       "      <th>11</th>\n",
       "      <td>http://library.ucsd.edu/ark:/20775/bb23560659</td>\n",
       "      <td>1997-10-09</td>\n",
       "      <td>October 9, 1997</td>\n",
       "      <td>1997-10-09</td>\n",
       "      <td>UCSD Guardian</td>\n",
       "    </tr>\n",
       "    <tr>\n",
       "      <th>12</th>\n",
       "      <td>http://library.ucsd.edu/ark:/20775/bb6690569x</td>\n",
       "      <td>1981-09-21</td>\n",
       "      <td>September 21, 1981</td>\n",
       "      <td>1981-09-21</td>\n",
       "      <td>UCSD Guardian</td>\n",
       "    </tr>\n",
       "    <tr>\n",
       "      <th>13</th>\n",
       "      <td>http://library.ucsd.edu/ark:/20775/bb14686814</td>\n",
       "      <td>1979-03-02</td>\n",
       "      <td>March 2, 1979</td>\n",
       "      <td>1979-03-02</td>\n",
       "      <td>Guardian</td>\n",
       "    </tr>\n",
       "    <tr>\n",
       "      <th>14</th>\n",
       "      <td>http://library.ucsd.edu/ark:/20775/bb7509692g</td>\n",
       "      <td>1973-04-17</td>\n",
       "      <td>April 17, 1973</td>\n",
       "      <td>1973-04-17</td>\n",
       "      <td>Triton Times</td>\n",
       "    </tr>\n",
       "    <tr>\n",
       "      <th>15</th>\n",
       "      <td>http://library.ucsd.edu/ark:/20775/bb8567844r</td>\n",
       "      <td>2009-03-02</td>\n",
       "      <td>March 2, 2009</td>\n",
       "      <td>2009-03-02</td>\n",
       "      <td>UCSD Guardian</td>\n",
       "    </tr>\n",
       "    <tr>\n",
       "      <th>16</th>\n",
       "      <td>http://library.ucsd.edu/ark:/20775/bb3209313h</td>\n",
       "      <td>1985-12-05</td>\n",
       "      <td>December 5, 1985</td>\n",
       "      <td>1985-12-05</td>\n",
       "      <td>UCSD Guardian</td>\n",
       "    </tr>\n",
       "    <tr>\n",
       "      <th>17</th>\n",
       "      <td>http://library.ucsd.edu/ark:/20775/bb20147652</td>\n",
       "      <td>1974-03-15</td>\n",
       "      <td>March 15, 1974</td>\n",
       "      <td>1974-03-15</td>\n",
       "      <td>Triton Times</td>\n",
       "    </tr>\n",
       "    <tr>\n",
       "      <th>18</th>\n",
       "      <td>http://library.ucsd.edu/ark:/20775/bb57690636</td>\n",
       "      <td>1983-03-07</td>\n",
       "      <td>March 7, 1983</td>\n",
       "      <td>1983-03-07</td>\n",
       "      <td>UCSD Guardian</td>\n",
       "    </tr>\n",
       "    <tr>\n",
       "      <th>19</th>\n",
       "      <td>http://library.ucsd.edu/ark:/20775/bb7577950p</td>\n",
       "      <td>1993-01-25</td>\n",
       "      <td>January 25, 1993</td>\n",
       "      <td>1993-01-25</td>\n",
       "      <td>UCSD Guardian</td>\n",
       "    </tr>\n",
       "  </tbody>\n",
       "</table>\n",
       "</div>"
      ],
      "text/plain": [
       "                                 Object Unique ID  Begin date  \\\n",
       "0   http://library.ucsd.edu/ark:/20775/bb4813423q  1994-02-10   \n",
       "1   http://library.ucsd.edu/ark:/20775/bb8943155k  1979-05-07   \n",
       "2   http://library.ucsd.edu/ark:/20775/bb47792902  1987-05-21   \n",
       "3   http://library.ucsd.edu/ark:/20775/bb75779516  1987-05-07   \n",
       "4   http://library.ucsd.edu/ark:/20775/bb0479396b  2014-01-16   \n",
       "5   http://library.ucsd.edu/ark:/20775/bb23906782  2014-03-10   \n",
       "6   http://library.ucsd.edu/ark:/20775/bb86701140  1977-03-16   \n",
       "7   http://library.ucsd.edu/ark:/20775/bb5837320f  1981-01-05   \n",
       "8   http://library.ucsd.edu/ark:/20775/bb2014764j  1990-10-15   \n",
       "9   http://library.ucsd.edu/ark:/20775/bb32093141  2000-10-26   \n",
       "10  http://library.ucsd.edu/ark:/20775/bb4984071q  1991-03-11   \n",
       "11  http://library.ucsd.edu/ark:/20775/bb23560659  1997-10-09   \n",
       "12  http://library.ucsd.edu/ark:/20775/bb6690569x  1981-09-21   \n",
       "13  http://library.ucsd.edu/ark:/20775/bb14686814  1979-03-02   \n",
       "14  http://library.ucsd.edu/ark:/20775/bb7509692g  1973-04-17   \n",
       "15  http://library.ucsd.edu/ark:/20775/bb8567844r  2009-03-02   \n",
       "16  http://library.ucsd.edu/ark:/20775/bb3209313h  1985-12-05   \n",
       "17  http://library.ucsd.edu/ark:/20775/bb20147652  1974-03-15   \n",
       "18  http://library.ucsd.edu/ark:/20775/bb57690636  1983-03-07   \n",
       "19  http://library.ucsd.edu/ark:/20775/bb7577950p  1993-01-25   \n",
       "\n",
       "         Date:creation    End date          Title  \n",
       "0    February 10, 1994  1994-02-10  UCSD Guardian  \n",
       "1          May 7, 1979  1979-05-07       Guardian  \n",
       "2         May 21, 1987  1987-05-21  UCSD Guardian  \n",
       "3          May 7, 1987  1987-05-07  UCSD Guardian  \n",
       "4     January 16, 2014  2014-01-16  UCSD Guardian  \n",
       "5       March 10, 2014  2014-03-10  UCSD Guardian  \n",
       "6       March 16, 1977  1977-03-16   Triton Times  \n",
       "7      January 5, 1981  1981-01-05   The Guardian  \n",
       "8     October 15, 1990  1990-10-15  UCSD Guardian  \n",
       "9     October 26, 2000  2000-10-26  UCSD Guardian  \n",
       "10      March 11, 1991  1991-03-11  UCSD Guardian  \n",
       "11     October 9, 1997  1997-10-09  UCSD Guardian  \n",
       "12  September 21, 1981  1981-09-21  UCSD Guardian  \n",
       "13       March 2, 1979  1979-03-02       Guardian  \n",
       "14      April 17, 1973  1973-04-17   Triton Times  \n",
       "15       March 2, 2009  2009-03-02  UCSD Guardian  \n",
       "16    December 5, 1985  1985-12-05  UCSD Guardian  \n",
       "17      March 15, 1974  1974-03-15   Triton Times  \n",
       "18       March 7, 1983  1983-03-07  UCSD Guardian  \n",
       "19    January 25, 1993  1993-01-25  UCSD Guardian  "
      ]
     },
     "execution_count": 113,
     "metadata": {},
     "output_type": "execute_result"
    }
   ],
   "source": [
    "df_rel = df[['Object Unique ID', 'Begin date', 'Date:creation', 'End date', 'Title']]\n",
    "df_rel.head(20)"
   ]
  },
  {
   "cell_type": "code",
   "execution_count": 23,
   "metadata": {
    "collapsed": true
   },
   "outputs": [],
   "source": [
    "filenames = [\"../data/Fulltext/UCSD Guardian/\" + f.split(\"20775/\")[-1] + '-1.pdf.txt' for f in df['Object Unique ID'].tolist()]"
   ]
  },
  {
   "cell_type": "code",
   "execution_count": 99,
   "metadata": {
    "collapsed": false
   },
   "outputs": [
    {
     "name": "stdout",
     "output_type": "stream",
     "text": [
      "we have 2915 files\n"
     ]
    },
    {
     "data": {
      "text/plain": [
       "['../data/Fulltext/UCSD Guardian/bb4813423q-1.pdf.txt',\n",
       " '../data/Fulltext/UCSD Guardian/bb8943155k-1.pdf.txt',\n",
       " '../data/Fulltext/UCSD Guardian/bb47792902-1.pdf.txt',\n",
       " '../data/Fulltext/UCSD Guardian/bb75779516-1.pdf.txt']"
      ]
     },
     "execution_count": 99,
     "metadata": {},
     "output_type": "execute_result"
    }
   ],
   "source": [
    "print 'We have', len(filenames), 'files'\n",
    "filenames[:4]"
   ]
  },
  {
   "cell_type": "code",
   "execution_count": 34,
   "metadata": {
    "collapsed": true
   },
   "outputs": [],
   "source": [
    "docs = []\n",
    "for filename in filenames:\n",
    "    txt = open(filename)\n",
    "    docs.append(txt.read())"
   ]
  },
  {
   "cell_type": "code",
   "execution_count": 95,
   "metadata": {
    "collapsed": false
   },
   "outputs": [
    {
     "data": {
      "text/plain": [
       "8"
      ]
     },
     "execution_count": 95,
     "metadata": {},
     "output_type": "execute_result"
    }
   ],
   "source": [
    "docs[0].lower().count(\" she \")"
   ]
  },
  {
   "cell_type": "code",
   "execution_count": 119,
   "metadata": {
    "collapsed": false
   },
   "outputs": [
    {
     "data": {
      "text/plain": [
       "Counter({' he allows': 1,\n",
       "         ' he also': 1,\n",
       "         ' he attained': 1,\n",
       "         ' he ch': 1,\n",
       "         ' he could': 1,\n",
       "         ' he does': 1,\n",
       "         ' he had': 1,\n",
       "         ' he has': 2,\n",
       "         ' he is': 2,\n",
       "         ' he just': 1,\n",
       "         ' he leads': 1,\n",
       "         ' he lives': 1,\n",
       "         ' he lp': 1,\n",
       "         ' he made': 1,\n",
       "         ' he majored': 1,\n",
       "         ' he might': 1,\n",
       "         ' he moved': 1,\n",
       "         ' he offers': 1,\n",
       "         ' he or': 1,\n",
       "         ' he planned': 1,\n",
       "         ' he securing': 1,\n",
       "         ' he shows': 1,\n",
       "         ' he was': 2,\n",
       "         ' he went': 1,\n",
       "         ' he would': 1,\n",
       "         ' he writes': 1})"
      ]
     },
     "execution_count": 119,
     "metadata": {},
     "output_type": "execute_result"
    }
   ],
   "source": [
    "Counter(re.findall(r\" he [\\w']+\", docs[6].lower()))"
   ]
  },
  {
   "cell_type": "code",
   "execution_count": 86,
   "metadata": {
    "collapsed": false
   },
   "outputs": [
    {
     "data": {
      "text/plain": [
       "Counter({' she ': 8})"
      ]
     },
     "execution_count": 86,
     "metadata": {},
     "output_type": "execute_result"
    }
   ],
   "source": [
    "Counter(re.findall(r\" she \", docs[0].lower()))"
   ]
  },
  {
   "cell_type": "code",
   "execution_count": 93,
   "metadata": {
    "collapsed": false
   },
   "outputs": [
    {
     "name": "stdout",
     "output_type": "stream",
     "text": [
      "7\n"
     ]
    }
   ],
   "source": [
    "line = \"I     am having  a   very  nice  23!@$      day. \"\n",
    "count = len(re.findall(\"[a-zA-Z_]+\", line))\n",
    "print (count)"
   ]
  },
  {
   "cell_type": "code",
   "execution_count": 96,
   "metadata": {
    "collapsed": true
   },
   "outputs": [],
   "source": [
    "he_counts = []\n",
    "she_counts = []\n",
    "word_counts = []\n",
    "for doc in docs:\n",
    "    he_counts.append(doc.lower().count(\" he \"))\n",
    "    she_counts.append(doc.lower().count(\" she \"))\n",
    "    word_counts.append(len(re.findall(\"[a-zA-Z_]+\", doc)))"
   ]
  },
  {
   "cell_type": "code",
   "execution_count": 114,
   "metadata": {
    "collapsed": false
   },
   "outputs": [
    {
     "name": "stderr",
     "output_type": "stream",
     "text": [
      "/usr/lib/python2.7/site-packages/ipykernel/__main__.py:2: SettingWithCopyWarning: \n",
      "A value is trying to be set on a copy of a slice from a DataFrame.\n",
      "Try using .loc[row_indexer,col_indexer] = value instead\n",
      "\n",
      "See the caveats in the documentation: http://pandas.pydata.org/pandas-docs/stable/indexing.html#indexing-view-versus-copy\n",
      "  from ipykernel import kernelapp as app\n",
      "/usr/lib/python2.7/site-packages/ipykernel/__main__.py:3: SettingWithCopyWarning: \n",
      "A value is trying to be set on a copy of a slice from a DataFrame.\n",
      "Try using .loc[row_indexer,col_indexer] = value instead\n",
      "\n",
      "See the caveats in the documentation: http://pandas.pydata.org/pandas-docs/stable/indexing.html#indexing-view-versus-copy\n",
      "  app.launch_new_instance()\n",
      "/usr/lib/python2.7/site-packages/ipykernel/__main__.py:4: SettingWithCopyWarning: \n",
      "A value is trying to be set on a copy of a slice from a DataFrame.\n",
      "Try using .loc[row_indexer,col_indexer] = value instead\n",
      "\n",
      "See the caveats in the documentation: http://pandas.pydata.org/pandas-docs/stable/indexing.html#indexing-view-versus-copy\n"
     ]
    },
    {
     "data": {
      "text/html": [
       "<div>\n",
       "<table border=\"1\" class=\"dataframe\">\n",
       "  <thead>\n",
       "    <tr style=\"text-align: right;\">\n",
       "      <th></th>\n",
       "      <th>Object Unique ID</th>\n",
       "      <th>Begin date</th>\n",
       "      <th>Date:creation</th>\n",
       "      <th>End date</th>\n",
       "      <th>Title</th>\n",
       "      <th>he_counts</th>\n",
       "      <th>she_counts</th>\n",
       "      <th>word_counts</th>\n",
       "    </tr>\n",
       "  </thead>\n",
       "  <tbody>\n",
       "    <tr>\n",
       "      <th>0</th>\n",
       "      <td>http://library.ucsd.edu/ark:/20775/bb4813423q</td>\n",
       "      <td>1994-02-10</td>\n",
       "      <td>February 10, 1994</td>\n",
       "      <td>1994-02-10</td>\n",
       "      <td>UCSD Guardian</td>\n",
       "      <td>41</td>\n",
       "      <td>8</td>\n",
       "      <td>18901</td>\n",
       "    </tr>\n",
       "    <tr>\n",
       "      <th>1</th>\n",
       "      <td>http://library.ucsd.edu/ark:/20775/bb8943155k</td>\n",
       "      <td>1979-05-07</td>\n",
       "      <td>May 7, 1979</td>\n",
       "      <td>1979-05-07</td>\n",
       "      <td>Guardian</td>\n",
       "      <td>51</td>\n",
       "      <td>11</td>\n",
       "      <td>18740</td>\n",
       "    </tr>\n",
       "    <tr>\n",
       "      <th>2</th>\n",
       "      <td>http://library.ucsd.edu/ark:/20775/bb47792902</td>\n",
       "      <td>1987-05-21</td>\n",
       "      <td>May 21, 1987</td>\n",
       "      <td>1987-05-21</td>\n",
       "      <td>UCSD Guardian</td>\n",
       "      <td>17</td>\n",
       "      <td>14</td>\n",
       "      <td>16916</td>\n",
       "    </tr>\n",
       "    <tr>\n",
       "      <th>3</th>\n",
       "      <td>http://library.ucsd.edu/ark:/20775/bb75779516</td>\n",
       "      <td>1987-05-07</td>\n",
       "      <td>May 7, 1987</td>\n",
       "      <td>1987-05-07</td>\n",
       "      <td>UCSD Guardian</td>\n",
       "      <td>48</td>\n",
       "      <td>11</td>\n",
       "      <td>18738</td>\n",
       "    </tr>\n",
       "    <tr>\n",
       "      <th>4</th>\n",
       "      <td>http://library.ucsd.edu/ark:/20775/bb0479396b</td>\n",
       "      <td>2014-01-16</td>\n",
       "      <td>January 16, 2014</td>\n",
       "      <td>2014-01-16</td>\n",
       "      <td>UCSD Guardian</td>\n",
       "      <td>27</td>\n",
       "      <td>0</td>\n",
       "      <td>10851</td>\n",
       "    </tr>\n",
       "  </tbody>\n",
       "</table>\n",
       "</div>"
      ],
      "text/plain": [
       "                                Object Unique ID  Begin date  \\\n",
       "0  http://library.ucsd.edu/ark:/20775/bb4813423q  1994-02-10   \n",
       "1  http://library.ucsd.edu/ark:/20775/bb8943155k  1979-05-07   \n",
       "2  http://library.ucsd.edu/ark:/20775/bb47792902  1987-05-21   \n",
       "3  http://library.ucsd.edu/ark:/20775/bb75779516  1987-05-07   \n",
       "4  http://library.ucsd.edu/ark:/20775/bb0479396b  2014-01-16   \n",
       "\n",
       "       Date:creation    End date          Title  he_counts  she_counts  \\\n",
       "0  February 10, 1994  1994-02-10  UCSD Guardian         41           8   \n",
       "1        May 7, 1979  1979-05-07       Guardian         51          11   \n",
       "2       May 21, 1987  1987-05-21  UCSD Guardian         17          14   \n",
       "3        May 7, 1987  1987-05-07  UCSD Guardian         48          11   \n",
       "4   January 16, 2014  2014-01-16  UCSD Guardian         27           0   \n",
       "\n",
       "   word_counts  \n",
       "0        18901  \n",
       "1        18740  \n",
       "2        16916  \n",
       "3        18738  \n",
       "4        10851  "
      ]
     },
     "execution_count": 114,
     "metadata": {},
     "output_type": "execute_result"
    }
   ],
   "source": [
    " #Series(np.random.randn(sLength), index=df1.index)\n",
    "df_rel[\"he_counts\"] = he_counts\n",
    "df_rel[\"she_counts\"] = she_counts\n",
    "df_rel[\"word_counts\"] = word_counts\n",
    "df_rel.head()"
   ]
  },
  {
   "cell_type": "code",
   "execution_count": 120,
   "metadata": {
    "collapsed": true
   },
   "outputs": [],
   "source": [
    "df_rel.to_csv(\"../results/guardian_pronoun_counts.csv\", index = False)"
   ]
  },
  {
   "cell_type": "code",
   "execution_count": null,
   "metadata": {
    "collapsed": true
   },
   "outputs": [],
   "source": []
  }
 ],
 "metadata": {
  "kernelspec": {
   "display_name": "Python 2",
   "language": "python",
   "name": "python2"
  },
  "language_info": {
   "codemirror_mode": {
    "name": "ipython",
    "version": 2
   },
   "file_extension": ".py",
   "mimetype": "text/x-python",
   "name": "python",
   "nbconvert_exporter": "python",
   "pygments_lexer": "ipython2",
   "version": "2.7.5"
  }
 },
 "nbformat": 4,
 "nbformat_minor": 0
}
