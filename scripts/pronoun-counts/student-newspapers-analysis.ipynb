{
 "cells": [
  {
   "cell_type": "code",
   "execution_count": 1,
   "metadata": {
    "collapsed": true
   },
   "outputs": [],
   "source": [
    "import pandas as pd\n",
    "from collections import *\n",
    "import re"
   ]
  },
  {
   "cell_type": "code",
   "execution_count": 2,
   "metadata": {
    "collapsed": false
   },
   "outputs": [
    {
     "name": "stdout",
     "output_type": "stream",
     "text": [
      "(646, 28)\n"
     ]
    }
   ],
   "source": [
    "df = pd.read_csv(\"../data/meta/Student-Newspapers.csv\")\n",
    "print df.shape"
   ]
  },
  {
   "cell_type": "code",
   "execution_count": 3,
   "metadata": {
    "collapsed": false
   },
   "outputs": [
    {
     "data": {
      "text/plain": [
       "Index([u'Object Unique ID', u'Level', u'File name', u'File use',\n",
       "       u'Type of Resource', u'Language', u'Title', u'Subtitle', u'Translation',\n",
       "       u'Variant', u'Variant.1', u'Variant.2', u'Begin date', u'Date:creation',\n",
       "       u'End date', u'File name 2', u'File use 2', u'Identifier:filename',\n",
       "       u'Identifier:local', u'Note:local attribution', u'Note:note',\n",
       "       u'Note:note.1', u'Note:note.2', u'Note:note.3', u'Note:publication',\n",
       "       u'Note:publication.1', u'Note:series', u'Subject:topic'],\n",
       "      dtype='object')"
      ]
     },
     "execution_count": 3,
     "metadata": {},
     "output_type": "execute_result"
    }
   ],
   "source": [
    "df.columns"
   ]
  },
  {
   "cell_type": "code",
   "execution_count": 4,
   "metadata": {
    "collapsed": false,
    "scrolled": true
   },
   "outputs": [
    {
     "data": {
      "text/html": [
       "<div>\n",
       "<table border=\"1\" class=\"dataframe\">\n",
       "  <thead>\n",
       "    <tr style=\"text-align: right;\">\n",
       "      <th></th>\n",
       "      <th>Object Unique ID</th>\n",
       "      <th>Begin date</th>\n",
       "      <th>Date:creation</th>\n",
       "      <th>End date</th>\n",
       "      <th>Title</th>\n",
       "    </tr>\n",
       "  </thead>\n",
       "  <tbody>\n",
       "    <tr>\n",
       "      <th>0</th>\n",
       "      <td>http://library.ucsd.edu/ark:/20775/bb8806609v</td>\n",
       "      <td>1977-10-11</td>\n",
       "      <td>October 11-25, 1977</td>\n",
       "      <td>1977-10-25</td>\n",
       "      <td>The New Indicator</td>\n",
       "    </tr>\n",
       "    <tr>\n",
       "      <th>1</th>\n",
       "      <td>http://library.ucsd.edu/ark:/20775/bb2970379j</td>\n",
       "      <td>1978-02-07</td>\n",
       "      <td>February 7-20, 1978</td>\n",
       "      <td>1978-02-20</td>\n",
       "      <td>The New Indicator</td>\n",
       "    </tr>\n",
       "    <tr>\n",
       "      <th>2</th>\n",
       "      <td>http://library.ucsd.edu/ark:/20775/bb60420770</td>\n",
       "      <td>1969-11-12</td>\n",
       "      <td>November 12, 1969</td>\n",
       "      <td>1969-11-12</td>\n",
       "      <td>The Indicator</td>\n",
       "    </tr>\n",
       "    <tr>\n",
       "      <th>3</th>\n",
       "      <td>http://library.ucsd.edu/ark:/20775/bb6519900h</td>\n",
       "      <td>1985-09-25</td>\n",
       "      <td>September 25, 1985</td>\n",
       "      <td>1985-09-25</td>\n",
       "      <td>The University Report</td>\n",
       "    </tr>\n",
       "    <tr>\n",
       "      <th>4</th>\n",
       "      <td>http://library.ucsd.edu/ark:/20775/bb65198992</td>\n",
       "      <td>1986-02-01</td>\n",
       "      <td>February 1986</td>\n",
       "      <td>1986-02-28</td>\n",
       "      <td>California Review</td>\n",
       "    </tr>\n",
       "    <tr>\n",
       "      <th>5</th>\n",
       "      <td>http://library.ucsd.edu/ark:/20775/bb4403839b</td>\n",
       "      <td>1983-12-01</td>\n",
       "      <td>Winter 1983</td>\n",
       "      <td>1983-02-28</td>\n",
       "      <td>Revellations</td>\n",
       "    </tr>\n",
       "    <tr>\n",
       "      <th>6</th>\n",
       "      <td>http://library.ucsd.edu/ark:/20775/bb8431179p</td>\n",
       "      <td>1982-04-27</td>\n",
       "      <td>April 27-May 10, 1982</td>\n",
       "      <td>1982-05-10</td>\n",
       "      <td>The New Indicator</td>\n",
       "    </tr>\n",
       "    <tr>\n",
       "      <th>7</th>\n",
       "      <td>http://library.ucsd.edu/ark:/20775/bb4813399r</td>\n",
       "      <td>1991-10-30</td>\n",
       "      <td>October 30, 1991</td>\n",
       "      <td>1991-10-30</td>\n",
       "      <td>Revellations</td>\n",
       "    </tr>\n",
       "    <tr>\n",
       "      <th>8</th>\n",
       "      <td>http://library.ucsd.edu/ark:/20775/bb6963590v</td>\n",
       "      <td>1988-02-08</td>\n",
       "      <td>February 8-22, 1988</td>\n",
       "      <td>1988-02-22</td>\n",
       "      <td>The New Indicator</td>\n",
       "    </tr>\n",
       "    <tr>\n",
       "      <th>9</th>\n",
       "      <td>http://library.ucsd.edu/ark:/20775/bb97281184</td>\n",
       "      <td>1977-11-01</td>\n",
       "      <td>November 1977</td>\n",
       "      <td>1977-11-30</td>\n",
       "      <td>Revellations</td>\n",
       "    </tr>\n",
       "    <tr>\n",
       "      <th>10</th>\n",
       "      <td>http://library.ucsd.edu/ark:/20775/bb59396880</td>\n",
       "      <td>1970-11-04</td>\n",
       "      <td>November 4, 1970</td>\n",
       "      <td>1970-11-04</td>\n",
       "      <td>Third World</td>\n",
       "    </tr>\n",
       "    <tr>\n",
       "      <th>11</th>\n",
       "      <td>http://library.ucsd.edu/ark:/20775/bb6519898j</td>\n",
       "      <td>1965-05-12</td>\n",
       "      <td>May 12, 1965</td>\n",
       "      <td>1965-05-12</td>\n",
       "      <td>Sandscript</td>\n",
       "    </tr>\n",
       "    <tr>\n",
       "      <th>12</th>\n",
       "      <td>http://library.ucsd.edu/ark:/20775/bb3482326c</td>\n",
       "      <td>1966-02-25</td>\n",
       "      <td>February 25, 1966</td>\n",
       "      <td>1966-02-25</td>\n",
       "      <td>Sandscript</td>\n",
       "    </tr>\n",
       "    <tr>\n",
       "      <th>13</th>\n",
       "      <td>http://library.ucsd.edu/ark:/20775/bb8055747x</td>\n",
       "      <td>1980-10-21</td>\n",
       "      <td>October 21-November 3, 1980</td>\n",
       "      <td>1980-11-03</td>\n",
       "      <td>The New Indicator</td>\n",
       "    </tr>\n",
       "    <tr>\n",
       "      <th>14</th>\n",
       "      <td>http://library.ucsd.edu/ark:/20775/bb22195182</td>\n",
       "      <td>1990-10-21</td>\n",
       "      <td>October 21-November 14, 1990</td>\n",
       "      <td>1990-11-14</td>\n",
       "      <td>The New Indicator</td>\n",
       "    </tr>\n",
       "    <tr>\n",
       "      <th>15</th>\n",
       "      <td>http://library.ucsd.edu/ark:/20775/bb06154066</td>\n",
       "      <td>1985-05-21</td>\n",
       "      <td>May 21-June 3, 1985</td>\n",
       "      <td>1985-06-03</td>\n",
       "      <td>The New Indicator</td>\n",
       "    </tr>\n",
       "    <tr>\n",
       "      <th>16</th>\n",
       "      <td>http://library.ucsd.edu/ark:/20775/bb96939916</td>\n",
       "      <td>1976-10-01</td>\n",
       "      <td>October 1976</td>\n",
       "      <td>1976-10-31</td>\n",
       "      <td>The New Indicator</td>\n",
       "    </tr>\n",
       "    <tr>\n",
       "      <th>17</th>\n",
       "      <td>http://library.ucsd.edu/ark:/20775/bb61444680</td>\n",
       "      <td>1982-11-01</td>\n",
       "      <td>November-December 1982</td>\n",
       "      <td>1982-12-31</td>\n",
       "      <td>California Review</td>\n",
       "    </tr>\n",
       "    <tr>\n",
       "      <th>18</th>\n",
       "      <td>http://library.ucsd.edu/ark:/20775/bb08884477</td>\n",
       "      <td>1987-02-03</td>\n",
       "      <td>February 3-16, 1987</td>\n",
       "      <td>1987-02-16</td>\n",
       "      <td>The New Indicator</td>\n",
       "    </tr>\n",
       "    <tr>\n",
       "      <th>19</th>\n",
       "      <td>http://library.ucsd.edu/ark:/20775/bb6212731n</td>\n",
       "      <td>1986-01-14</td>\n",
       "      <td>January 14-28, 1986</td>\n",
       "      <td>1986-01-28</td>\n",
       "      <td>The New Indicator</td>\n",
       "    </tr>\n",
       "  </tbody>\n",
       "</table>\n",
       "</div>"
      ],
      "text/plain": [
       "                                 Object Unique ID  Begin date  \\\n",
       "0   http://library.ucsd.edu/ark:/20775/bb8806609v  1977-10-11   \n",
       "1   http://library.ucsd.edu/ark:/20775/bb2970379j  1978-02-07   \n",
       "2   http://library.ucsd.edu/ark:/20775/bb60420770  1969-11-12   \n",
       "3   http://library.ucsd.edu/ark:/20775/bb6519900h  1985-09-25   \n",
       "4   http://library.ucsd.edu/ark:/20775/bb65198992  1986-02-01   \n",
       "5   http://library.ucsd.edu/ark:/20775/bb4403839b  1983-12-01   \n",
       "6   http://library.ucsd.edu/ark:/20775/bb8431179p  1982-04-27   \n",
       "7   http://library.ucsd.edu/ark:/20775/bb4813399r  1991-10-30   \n",
       "8   http://library.ucsd.edu/ark:/20775/bb6963590v  1988-02-08   \n",
       "9   http://library.ucsd.edu/ark:/20775/bb97281184  1977-11-01   \n",
       "10  http://library.ucsd.edu/ark:/20775/bb59396880  1970-11-04   \n",
       "11  http://library.ucsd.edu/ark:/20775/bb6519898j  1965-05-12   \n",
       "12  http://library.ucsd.edu/ark:/20775/bb3482326c  1966-02-25   \n",
       "13  http://library.ucsd.edu/ark:/20775/bb8055747x  1980-10-21   \n",
       "14  http://library.ucsd.edu/ark:/20775/bb22195182  1990-10-21   \n",
       "15  http://library.ucsd.edu/ark:/20775/bb06154066  1985-05-21   \n",
       "16  http://library.ucsd.edu/ark:/20775/bb96939916  1976-10-01   \n",
       "17  http://library.ucsd.edu/ark:/20775/bb61444680  1982-11-01   \n",
       "18  http://library.ucsd.edu/ark:/20775/bb08884477  1987-02-03   \n",
       "19  http://library.ucsd.edu/ark:/20775/bb6212731n  1986-01-14   \n",
       "\n",
       "                   Date:creation    End date                  Title  \n",
       "0            October 11-25, 1977  1977-10-25      The New Indicator  \n",
       "1            February 7-20, 1978  1978-02-20      The New Indicator  \n",
       "2              November 12, 1969  1969-11-12          The Indicator  \n",
       "3             September 25, 1985  1985-09-25  The University Report  \n",
       "4                  February 1986  1986-02-28      California Review  \n",
       "5                    Winter 1983  1983-02-28           Revellations  \n",
       "6          April 27-May 10, 1982  1982-05-10      The New Indicator  \n",
       "7               October 30, 1991  1991-10-30           Revellations  \n",
       "8            February 8-22, 1988  1988-02-22      The New Indicator  \n",
       "9                  November 1977  1977-11-30           Revellations  \n",
       "10              November 4, 1970  1970-11-04            Third World  \n",
       "11                  May 12, 1965  1965-05-12             Sandscript  \n",
       "12             February 25, 1966  1966-02-25             Sandscript  \n",
       "13   October 21-November 3, 1980  1980-11-03      The New Indicator  \n",
       "14  October 21-November 14, 1990  1990-11-14      The New Indicator  \n",
       "15           May 21-June 3, 1985  1985-06-03      The New Indicator  \n",
       "16                  October 1976  1976-10-31      The New Indicator  \n",
       "17        November-December 1982  1982-12-31      California Review  \n",
       "18           February 3-16, 1987  1987-02-16      The New Indicator  \n",
       "19           January 14-28, 1986  1986-01-28      The New Indicator  "
      ]
     },
     "execution_count": 4,
     "metadata": {},
     "output_type": "execute_result"
    }
   ],
   "source": [
    "df_rel = df[['Object Unique ID', 'Begin date', 'Date:creation', 'End date', 'Title']]\n",
    "df_rel.head(20)"
   ]
  },
  {
   "cell_type": "code",
   "execution_count": 5,
   "metadata": {
    "collapsed": true
   },
   "outputs": [],
   "source": [
    "filenames = [\"../data/Fulltext/Student Newspapers/\" + f.split(\"20775/\")[-1] + '-1.pdf.txt' for f in df['Object Unique ID'].tolist()]"
   ]
  },
  {
   "cell_type": "code",
   "execution_count": 6,
   "metadata": {
    "collapsed": false
   },
   "outputs": [
    {
     "name": "stdout",
     "output_type": "stream",
     "text": [
      "We have 646 files\n"
     ]
    },
    {
     "data": {
      "text/plain": [
       "['../data/Fulltext/Student Newspapers/bb8806609v-1.pdf.txt',\n",
       " '../data/Fulltext/Student Newspapers/bb2970379j-1.pdf.txt',\n",
       " '../data/Fulltext/Student Newspapers/bb60420770-1.pdf.txt',\n",
       " '../data/Fulltext/Student Newspapers/bb6519900h-1.pdf.txt']"
      ]
     },
     "execution_count": 6,
     "metadata": {},
     "output_type": "execute_result"
    }
   ],
   "source": [
    "print 'We have', len(filenames), 'files'\n",
    "filenames[:4]"
   ]
  },
  {
   "cell_type": "code",
   "execution_count": 7,
   "metadata": {
    "collapsed": true
   },
   "outputs": [],
   "source": [
    "docs = []\n",
    "for filename in filenames:\n",
    "    txt = open(filename)\n",
    "    docs.append(txt.read())"
   ]
  },
  {
   "cell_type": "code",
   "execution_count": 8,
   "metadata": {
    "collapsed": false
   },
   "outputs": [
    {
     "data": {
      "text/plain": [
       "5"
      ]
     },
     "execution_count": 8,
     "metadata": {},
     "output_type": "execute_result"
    }
   ],
   "source": [
    "docs[0].lower().count(\" she \")"
   ]
  },
  {
   "cell_type": "code",
   "execution_count": 10,
   "metadata": {
    "collapsed": false
   },
   "outputs": [
    {
     "data": {
      "text/plain": [
       "Counter({' he does': 1, ' he said': 1, ' he was': 1})"
      ]
     },
     "execution_count": 10,
     "metadata": {},
     "output_type": "execute_result"
    }
   ],
   "source": [
    "Counter(re.findall(r\" he [\\w']+\", docs[0].lower()))"
   ]
  },
  {
   "cell_type": "code",
   "execution_count": 11,
   "metadata": {
    "collapsed": false
   },
   "outputs": [
    {
     "data": {
      "text/plain": [
       "Counter({' she ': 5})"
      ]
     },
     "execution_count": 11,
     "metadata": {},
     "output_type": "execute_result"
    }
   ],
   "source": [
    "Counter(re.findall(r\" she \", docs[0].lower()))"
   ]
  },
  {
   "cell_type": "code",
   "execution_count": 12,
   "metadata": {
    "collapsed": true
   },
   "outputs": [],
   "source": [
    "he_counts = []\n",
    "she_counts = []\n",
    "word_counts = []\n",
    "for doc in docs:\n",
    "    he_counts.append(doc.lower().count(\" he \"))\n",
    "    she_counts.append(doc.lower().count(\" she \"))\n",
    "    word_counts.append(len(re.findall(\"[a-zA-Z_]+\", doc)))"
   ]
  },
  {
   "cell_type": "code",
   "execution_count": 13,
   "metadata": {
    "collapsed": false
   },
   "outputs": [
    {
     "name": "stderr",
     "output_type": "stream",
     "text": [
      "/usr/lib/python2.7/site-packages/ipykernel/__main__.py:1: SettingWithCopyWarning: \n",
      "A value is trying to be set on a copy of a slice from a DataFrame.\n",
      "Try using .loc[row_indexer,col_indexer] = value instead\n",
      "\n",
      "See the caveats in the documentation: http://pandas.pydata.org/pandas-docs/stable/indexing.html#indexing-view-versus-copy\n",
      "  if __name__ == '__main__':\n",
      "/usr/lib/python2.7/site-packages/ipykernel/__main__.py:2: SettingWithCopyWarning: \n",
      "A value is trying to be set on a copy of a slice from a DataFrame.\n",
      "Try using .loc[row_indexer,col_indexer] = value instead\n",
      "\n",
      "See the caveats in the documentation: http://pandas.pydata.org/pandas-docs/stable/indexing.html#indexing-view-versus-copy\n",
      "  from ipykernel import kernelapp as app\n",
      "/usr/lib/python2.7/site-packages/ipykernel/__main__.py:3: SettingWithCopyWarning: \n",
      "A value is trying to be set on a copy of a slice from a DataFrame.\n",
      "Try using .loc[row_indexer,col_indexer] = value instead\n",
      "\n",
      "See the caveats in the documentation: http://pandas.pydata.org/pandas-docs/stable/indexing.html#indexing-view-versus-copy\n",
      "  app.launch_new_instance()\n"
     ]
    },
    {
     "data": {
      "text/html": [
       "<div>\n",
       "<table border=\"1\" class=\"dataframe\">\n",
       "  <thead>\n",
       "    <tr style=\"text-align: right;\">\n",
       "      <th></th>\n",
       "      <th>Object Unique ID</th>\n",
       "      <th>Begin date</th>\n",
       "      <th>Date:creation</th>\n",
       "      <th>End date</th>\n",
       "      <th>Title</th>\n",
       "      <th>he_counts</th>\n",
       "      <th>she_counts</th>\n",
       "      <th>word_counts</th>\n",
       "    </tr>\n",
       "  </thead>\n",
       "  <tbody>\n",
       "    <tr>\n",
       "      <th>0</th>\n",
       "      <td>http://library.ucsd.edu/ark:/20775/bb8806609v</td>\n",
       "      <td>1977-10-11</td>\n",
       "      <td>October 11-25, 1977</td>\n",
       "      <td>1977-10-25</td>\n",
       "      <td>The New Indicator</td>\n",
       "      <td>3</td>\n",
       "      <td>5</td>\n",
       "      <td>5923</td>\n",
       "    </tr>\n",
       "    <tr>\n",
       "      <th>1</th>\n",
       "      <td>http://library.ucsd.edu/ark:/20775/bb2970379j</td>\n",
       "      <td>1978-02-07</td>\n",
       "      <td>February 7-20, 1978</td>\n",
       "      <td>1978-02-20</td>\n",
       "      <td>The New Indicator</td>\n",
       "      <td>11</td>\n",
       "      <td>0</td>\n",
       "      <td>6107</td>\n",
       "    </tr>\n",
       "    <tr>\n",
       "      <th>2</th>\n",
       "      <td>http://library.ucsd.edu/ark:/20775/bb60420770</td>\n",
       "      <td>1969-11-12</td>\n",
       "      <td>November 12, 1969</td>\n",
       "      <td>1969-11-12</td>\n",
       "      <td>The Indicator</td>\n",
       "      <td>41</td>\n",
       "      <td>1</td>\n",
       "      <td>13904</td>\n",
       "    </tr>\n",
       "    <tr>\n",
       "      <th>3</th>\n",
       "      <td>http://library.ucsd.edu/ark:/20775/bb6519900h</td>\n",
       "      <td>1985-09-25</td>\n",
       "      <td>September 25, 1985</td>\n",
       "      <td>1985-09-25</td>\n",
       "      <td>The University Report</td>\n",
       "      <td>32</td>\n",
       "      <td>4</td>\n",
       "      <td>18034</td>\n",
       "    </tr>\n",
       "    <tr>\n",
       "      <th>4</th>\n",
       "      <td>http://library.ucsd.edu/ark:/20775/bb65198992</td>\n",
       "      <td>1986-02-01</td>\n",
       "      <td>February 1986</td>\n",
       "      <td>1986-02-28</td>\n",
       "      <td>California Review</td>\n",
       "      <td>68</td>\n",
       "      <td>9</td>\n",
       "      <td>21735</td>\n",
       "    </tr>\n",
       "  </tbody>\n",
       "</table>\n",
       "</div>"
      ],
      "text/plain": [
       "                                Object Unique ID  Begin date  \\\n",
       "0  http://library.ucsd.edu/ark:/20775/bb8806609v  1977-10-11   \n",
       "1  http://library.ucsd.edu/ark:/20775/bb2970379j  1978-02-07   \n",
       "2  http://library.ucsd.edu/ark:/20775/bb60420770  1969-11-12   \n",
       "3  http://library.ucsd.edu/ark:/20775/bb6519900h  1985-09-25   \n",
       "4  http://library.ucsd.edu/ark:/20775/bb65198992  1986-02-01   \n",
       "\n",
       "         Date:creation    End date                  Title  he_counts  \\\n",
       "0  October 11-25, 1977  1977-10-25      The New Indicator          3   \n",
       "1  February 7-20, 1978  1978-02-20      The New Indicator         11   \n",
       "2    November 12, 1969  1969-11-12          The Indicator         41   \n",
       "3   September 25, 1985  1985-09-25  The University Report         32   \n",
       "4        February 1986  1986-02-28      California Review         68   \n",
       "\n",
       "   she_counts  word_counts  \n",
       "0           5         5923  \n",
       "1           0         6107  \n",
       "2           1        13904  \n",
       "3           4        18034  \n",
       "4           9        21735  "
      ]
     },
     "execution_count": 13,
     "metadata": {},
     "output_type": "execute_result"
    }
   ],
   "source": [
    "df_rel[\"he_counts\"] = he_counts\n",
    "df_rel[\"she_counts\"] = she_counts\n",
    "df_rel[\"word_counts\"] = word_counts\n",
    "df_rel.head()"
   ]
  },
  {
   "cell_type": "code",
   "execution_count": 14,
   "metadata": {
    "collapsed": true
   },
   "outputs": [],
   "source": [
    "df_rel.to_csv(\"../results/student_pronoun_counts.csv\", index = False)"
   ]
  },
  {
   "cell_type": "code",
   "execution_count": null,
   "metadata": {
    "collapsed": true
   },
   "outputs": [],
   "source": []
  }
 ],
 "metadata": {
  "kernelspec": {
   "display_name": "Python 2",
   "language": "python",
   "name": "python2"
  },
  "language_info": {
   "codemirror_mode": {
    "name": "ipython",
    "version": 2
   },
   "file_extension": ".py",
   "mimetype": "text/x-python",
   "name": "python",
   "nbconvert_exporter": "python",
   "pygments_lexer": "ipython2",
   "version": "2.7.5"
  }
 },
 "nbformat": 4,
 "nbformat_minor": 0
}
