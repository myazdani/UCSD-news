{
 "cells": [
  {
   "cell_type": "code",
   "execution_count": 1,
   "metadata": {
    "collapsed": true
   },
   "outputs": [],
   "source": [
    "import pandas as pd"
   ]
  },
  {
   "cell_type": "code",
   "execution_count": 2,
   "metadata": {
    "collapsed": false
   },
   "outputs": [
    {
     "name": "stdout",
     "output_type": "stream",
     "text": [
      "(2915, 46)\n"
     ]
    }
   ],
   "source": [
    "df = pd.read_csv(\"../data/meta/UCSD-Guardian.csv\")\n",
    "print df.shape"
   ]
  },
  {
   "cell_type": "code",
   "execution_count": 3,
   "metadata": {
    "collapsed": false
   },
   "outputs": [
    {
     "data": {
      "text/plain": [
       "Index([u'Object Unique ID', u'Level', u'File name', u'File use',\n",
       "       u'Type of Resource', u'Language', u'Title', u'Title.1', u'Subtitle',\n",
       "       u'Translation', u'Variant', u'Variant.1', u'Variant.2', u'Variant.3',\n",
       "       u'Variant.4', u'Variant.5', u'Variant.6', u'Variant.7', u'Variant.8',\n",
       "       u'Variant.9', u'Variant.10', u'Variant.11', u'Variant.12',\n",
       "       u'Variant.13', u'Variant.14', u'Variant.15', u'Begin date',\n",
       "       u'Begin date.1', u'Date:creation', u'Date:creation.1', u'End date',\n",
       "       u'End date.1', u'File name 2', u'File use 2', u'Identifier:filename',\n",
       "       u'Identifier:filename.1', u'Note:local attribution', u'Note:note',\n",
       "       u'Note:note.1', u'Note:note.2', u'Note:note.3', u'Note:publication',\n",
       "       u'Note:publication.1', u'Note:series', u'Note:series.1',\n",
       "       u'Subject:topic'],\n",
       "      dtype='object')"
      ]
     },
     "execution_count": 3,
     "metadata": {},
     "output_type": "execute_result"
    }
   ],
   "source": [
    "df.columns"
   ]
  },
  {
   "cell_type": "code",
   "execution_count": 4,
   "metadata": {
    "collapsed": false
   },
   "outputs": [
    {
     "data": {
      "text/html": [
       "<div>\n",
       "<table border=\"1\" class=\"dataframe\">\n",
       "  <thead>\n",
       "    <tr style=\"text-align: right;\">\n",
       "      <th></th>\n",
       "      <th>File name</th>\n",
       "      <th>Begin date</th>\n",
       "      <th>Date:creation</th>\n",
       "      <th>End date</th>\n",
       "      <th>Title</th>\n",
       "    </tr>\n",
       "  </thead>\n",
       "  <tbody>\n",
       "    <tr>\n",
       "      <th>0</th>\n",
       "      <td>20775-bb4813423q-0-1.pdf</td>\n",
       "      <td>1994-02-10</td>\n",
       "      <td>February 10, 1994</td>\n",
       "      <td>1994-02-10</td>\n",
       "      <td>UCSD Guardian</td>\n",
       "    </tr>\n",
       "    <tr>\n",
       "      <th>1</th>\n",
       "      <td>20775-bb8943155k-0-1.pdf</td>\n",
       "      <td>1979-05-07</td>\n",
       "      <td>May 7, 1979</td>\n",
       "      <td>1979-05-07</td>\n",
       "      <td>Guardian</td>\n",
       "    </tr>\n",
       "    <tr>\n",
       "      <th>2</th>\n",
       "      <td>20775-bb47792902-0-1.pdf</td>\n",
       "      <td>1987-05-21</td>\n",
       "      <td>May 21, 1987</td>\n",
       "      <td>1987-05-21</td>\n",
       "      <td>UCSD Guardian</td>\n",
       "    </tr>\n",
       "    <tr>\n",
       "      <th>3</th>\n",
       "      <td>20775-bb75779516-0-1.pdf</td>\n",
       "      <td>1987-05-07</td>\n",
       "      <td>May 7, 1987</td>\n",
       "      <td>1987-05-07</td>\n",
       "      <td>UCSD Guardian</td>\n",
       "    </tr>\n",
       "    <tr>\n",
       "      <th>4</th>\n",
       "      <td>2014-01-16.pdf</td>\n",
       "      <td>2014-01-16</td>\n",
       "      <td>January 16, 2014</td>\n",
       "      <td>2014-01-16</td>\n",
       "      <td>UCSD Guardian</td>\n",
       "    </tr>\n",
       "  </tbody>\n",
       "</table>\n",
       "</div>"
      ],
      "text/plain": [
       "                  File name  Begin date      Date:creation    End date  \\\n",
       "0  20775-bb4813423q-0-1.pdf  1994-02-10  February 10, 1994  1994-02-10   \n",
       "1  20775-bb8943155k-0-1.pdf  1979-05-07        May 7, 1979  1979-05-07   \n",
       "2  20775-bb47792902-0-1.pdf  1987-05-21       May 21, 1987  1987-05-21   \n",
       "3  20775-bb75779516-0-1.pdf  1987-05-07        May 7, 1987  1987-05-07   \n",
       "4            2014-01-16.pdf  2014-01-16   January 16, 2014  2014-01-16   \n",
       "\n",
       "           Title  \n",
       "0  UCSD Guardian  \n",
       "1       Guardian  \n",
       "2  UCSD Guardian  \n",
       "3  UCSD Guardian  \n",
       "4  UCSD Guardian  "
      ]
     },
     "execution_count": 4,
     "metadata": {},
     "output_type": "execute_result"
    }
   ],
   "source": [
    "df[['File name', 'Begin date', 'Date:creation', 'End date', 'Title']].head()"
   ]
  },
  {
   "cell_type": "code",
   "execution_count": null,
   "metadata": {
    "collapsed": true
   },
   "outputs": [],
   "source": []
  }
 ],
 "metadata": {
  "kernelspec": {
   "display_name": "Python 2",
   "language": "python",
   "name": "python2"
  },
  "language_info": {
   "codemirror_mode": {
    "name": "ipython",
    "version": 2
   },
   "file_extension": ".py",
   "mimetype": "text/x-python",
   "name": "python",
   "nbconvert_exporter": "python",
   "pygments_lexer": "ipython2",
   "version": "2.7.5"
  }
 },
 "nbformat": 4,
 "nbformat_minor": 0
}
